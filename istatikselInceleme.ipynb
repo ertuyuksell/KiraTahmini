{
 "cells": [
  {
   "cell_type": "code",
   "execution_count": 2,
   "metadata": {},
   "outputs": [],
   "source": [
    "import numpy as np \n",
    "import pandas as pd \n",
    "import matplotlib.pyplot as plt "
   ]
  },
  {
   "cell_type": "code",
   "execution_count": 3,
   "metadata": {},
   "outputs": [],
   "source": [
    "df = pd.read_csv('data.csv')"
   ]
  },
  {
   "cell_type": "code",
   "execution_count": 4,
   "metadata": {},
   "outputs": [
    {
     "name": "stdout",
     "output_type": "stream",
     "text": [
      "<class 'pandas.core.frame.DataFrame'>\n",
      "RangeIndex: 8136 entries, 0 to 8135\n",
      "Data columns (total 9 columns):\n",
      " #   Column        Non-Null Count  Dtype \n",
      "---  ------        --------------  ----- \n",
      " 0   city          8136 non-null   object\n",
      " 1   district      8136 non-null   object\n",
      " 2   neighborhood  8136 non-null   object\n",
      " 3   room          8136 non-null   int64 \n",
      " 4   livingRoom    8136 non-null   int64 \n",
      " 5   area          8136 non-null   int64 \n",
      " 6   age           8136 non-null   int64 \n",
      " 7   floor         8136 non-null   int64 \n",
      " 8   price         8136 non-null   int64 \n",
      "dtypes: int64(6), object(3)\n",
      "memory usage: 572.2+ KB\n"
     ]
    }
   ],
   "source": [
    "df.info()"
   ]
  },
  {
   "cell_type": "code",
   "execution_count": 5,
   "metadata": {},
   "outputs": [],
   "source": [
    "df['city'] = df['city'].astype('category')\n",
    "df['district'] = df['district'].astype('category')\n",
    "df['neighborhood'] = df['neighborhood'].astype('category')\n",
    "df['room'] = df['room'].astype('int')\n",
    "df['livingRoom'] = df['livingRoom'].astype('int')\n",
    "df['area'] = df['area'].astype('int')\n",
    "df['age'] = df['age'].astype('int')\n",
    "df['floor'] = df['floor'].astype('int')\n",
    "df['price'] = df['price'].astype('int')\n"
   ]
  },
  {
   "cell_type": "code",
   "execution_count": 6,
   "metadata": {},
   "outputs": [
    {
     "name": "stdout",
     "output_type": "stream",
     "text": [
      "<class 'pandas.core.frame.DataFrame'>\n",
      "RangeIndex: 8136 entries, 0 to 8135\n",
      "Data columns (total 9 columns):\n",
      " #   Column        Non-Null Count  Dtype   \n",
      "---  ------        --------------  -----   \n",
      " 0   city          8136 non-null   category\n",
      " 1   district      8136 non-null   category\n",
      " 2   neighborhood  8136 non-null   category\n",
      " 3   room          8136 non-null   int32   \n",
      " 4   livingRoom    8136 non-null   int32   \n",
      " 5   area          8136 non-null   int32   \n",
      " 6   age           8136 non-null   int32   \n",
      " 7   floor         8136 non-null   int32   \n",
      " 8   price         8136 non-null   int32   \n",
      "dtypes: category(3), int32(6)\n",
      "memory usage: 247.6 KB\n"
     ]
    }
   ],
   "source": [
    "df.info()"
   ]
  },
  {
   "cell_type": "code",
   "execution_count": 7,
   "metadata": {},
   "outputs": [
    {
     "name": "stdout",
     "output_type": "stream",
     "text": [
      "Column:room, min: 0.5, max: 4.5\n",
      "Column:livingRoom, min: 1.0, max: 1.0\n",
      "Column:area, min: -17.5, max: 242.5\n",
      "Column:age, min: -20.0, max: 44.0\n",
      "Column:floor, min: -2.0, max: 6.0\n",
      "Column:price, min: -18000.0, max: 62000.0\n"
     ]
    }
   ],
   "source": [
    "columns=df.select_dtypes(include=[np.number]).columns\n",
    "minValues = []\n",
    "maxValues = []\n",
    "for column in columns:\n",
    "    Q1 = df[column].quantile(0.25)\n",
    "    Q3 = df[column].quantile(0.75)\n",
    "    IQR = Q3 - Q1\n",
    "    minValue = Q1 - 1.5 * IQR\n",
    "    maxValue = Q3 + 1.5 * IQR\n",
    "    minValues.append(minValue)\n",
    "    maxValues.append(maxValue)\n",
    "    print(f\"Column:{column}, min: {minValue}, max: {maxValue}\")"
   ]
  },
  {
   "cell_type": "code",
   "execution_count": 8,
   "metadata": {},
   "outputs": [],
   "source": [
    "#cleaning outliers"
   ]
  },
  {
   "cell_type": "code",
   "execution_count": 10,
   "metadata": {},
   "outputs": [],
   "source": [
    "for i,column in enumerate(columns):\n",
    "    df = df[(df[column] >= minValues[i]) & (df[column] <= maxValues[i])]"
   ]
  },
  {
   "cell_type": "code",
   "execution_count": 11,
   "metadata": {},
   "outputs": [
    {
     "name": "stdout",
     "output_type": "stream",
     "text": [
      "<class 'pandas.core.frame.DataFrame'>\n",
      "Index: 6212 entries, 0 to 8135\n",
      "Data columns (total 9 columns):\n",
      " #   Column        Non-Null Count  Dtype   \n",
      "---  ------        --------------  -----   \n",
      " 0   city          6212 non-null   category\n",
      " 1   district      6212 non-null   category\n",
      " 2   neighborhood  6212 non-null   category\n",
      " 3   room          6212 non-null   int32   \n",
      " 4   livingRoom    6212 non-null   int32   \n",
      " 5   area          6212 non-null   int32   \n",
      " 6   age           6212 non-null   int32   \n",
      " 7   floor         6212 non-null   int32   \n",
      " 8   price         6212 non-null   int32   \n",
      "dtypes: category(3), int32(6)\n",
      "memory usage: 243.3 KB\n"
     ]
    }
   ],
   "source": [
    "df.info()"
   ]
  },
  {
   "cell_type": "code",
   "execution_count": 13,
   "metadata": {},
   "outputs": [
    {
     "data": {
      "text/html": [
       "<div>\n",
       "<style scoped>\n",
       "    .dataframe tbody tr th:only-of-type {\n",
       "        vertical-align: middle;\n",
       "    }\n",
       "\n",
       "    .dataframe tbody tr th {\n",
       "        vertical-align: top;\n",
       "    }\n",
       "\n",
       "    .dataframe thead th {\n",
       "        text-align: right;\n",
       "    }\n",
       "</style>\n",
       "<table border=\"1\" class=\"dataframe\">\n",
       "  <thead>\n",
       "    <tr style=\"text-align: right;\">\n",
       "      <th></th>\n",
       "      <th>room</th>\n",
       "      <th>livingRoom</th>\n",
       "      <th>area</th>\n",
       "      <th>age</th>\n",
       "      <th>floor</th>\n",
       "      <th>price</th>\n",
       "    </tr>\n",
       "  </thead>\n",
       "  <tbody>\n",
       "    <tr>\n",
       "      <th>count</th>\n",
       "      <td>6212.000000</td>\n",
       "      <td>6212.0</td>\n",
       "      <td>6212.000000</td>\n",
       "      <td>6212.000000</td>\n",
       "      <td>6212.000000</td>\n",
       "      <td>6212.000000</td>\n",
       "    </tr>\n",
       "    <tr>\n",
       "      <th>mean</th>\n",
       "      <td>2.176272</td>\n",
       "      <td>1.0</td>\n",
       "      <td>104.669350</td>\n",
       "      <td>12.653896</td>\n",
       "      <td>2.192692</td>\n",
       "      <td>17900.975853</td>\n",
       "    </tr>\n",
       "    <tr>\n",
       "      <th>std</th>\n",
       "      <td>0.826815</td>\n",
       "      <td>0.0</td>\n",
       "      <td>39.442494</td>\n",
       "      <td>10.451565</td>\n",
       "      <td>1.601317</td>\n",
       "      <td>10467.582893</td>\n",
       "    </tr>\n",
       "    <tr>\n",
       "      <th>min</th>\n",
       "      <td>1.000000</td>\n",
       "      <td>1.0</td>\n",
       "      <td>5.000000</td>\n",
       "      <td>0.000000</td>\n",
       "      <td>-2.000000</td>\n",
       "      <td>1.000000</td>\n",
       "    </tr>\n",
       "    <tr>\n",
       "      <th>25%</th>\n",
       "      <td>2.000000</td>\n",
       "      <td>1.0</td>\n",
       "      <td>75.000000</td>\n",
       "      <td>4.000000</td>\n",
       "      <td>1.000000</td>\n",
       "      <td>11000.000000</td>\n",
       "    </tr>\n",
       "    <tr>\n",
       "      <th>50%</th>\n",
       "      <td>2.000000</td>\n",
       "      <td>1.0</td>\n",
       "      <td>100.000000</td>\n",
       "      <td>10.000000</td>\n",
       "      <td>2.000000</td>\n",
       "      <td>15000.000000</td>\n",
       "    </tr>\n",
       "    <tr>\n",
       "      <th>75%</th>\n",
       "      <td>3.000000</td>\n",
       "      <td>1.0</td>\n",
       "      <td>130.000000</td>\n",
       "      <td>20.000000</td>\n",
       "      <td>3.000000</td>\n",
       "      <td>21000.000000</td>\n",
       "    </tr>\n",
       "    <tr>\n",
       "      <th>max</th>\n",
       "      <td>4.000000</td>\n",
       "      <td>1.0</td>\n",
       "      <td>240.000000</td>\n",
       "      <td>44.000000</td>\n",
       "      <td>6.000000</td>\n",
       "      <td>60000.000000</td>\n",
       "    </tr>\n",
       "  </tbody>\n",
       "</table>\n",
       "</div>"
      ],
      "text/plain": [
       "              room  livingRoom         area          age        floor  \\\n",
       "count  6212.000000      6212.0  6212.000000  6212.000000  6212.000000   \n",
       "mean      2.176272         1.0   104.669350    12.653896     2.192692   \n",
       "std       0.826815         0.0    39.442494    10.451565     1.601317   \n",
       "min       1.000000         1.0     5.000000     0.000000    -2.000000   \n",
       "25%       2.000000         1.0    75.000000     4.000000     1.000000   \n",
       "50%       2.000000         1.0   100.000000    10.000000     2.000000   \n",
       "75%       3.000000         1.0   130.000000    20.000000     3.000000   \n",
       "max       4.000000         1.0   240.000000    44.000000     6.000000   \n",
       "\n",
       "              price  \n",
       "count   6212.000000  \n",
       "mean   17900.975853  \n",
       "std    10467.582893  \n",
       "min        1.000000  \n",
       "25%    11000.000000  \n",
       "50%    15000.000000  \n",
       "75%    21000.000000  \n",
       "max    60000.000000  "
      ]
     },
     "execution_count": 13,
     "metadata": {},
     "output_type": "execute_result"
    }
   ],
   "source": [
    "df.describe()"
   ]
  },
  {
   "cell_type": "code",
   "execution_count": 14,
   "metadata": {},
   "outputs": [],
   "source": [
    "df = df[df['price'] >= 3000]"
   ]
  },
  {
   "cell_type": "code",
   "execution_count": 16,
   "metadata": {},
   "outputs": [
    {
     "data": {
      "text/html": [
       "<div>\n",
       "<style scoped>\n",
       "    .dataframe tbody tr th:only-of-type {\n",
       "        vertical-align: middle;\n",
       "    }\n",
       "\n",
       "    .dataframe tbody tr th {\n",
       "        vertical-align: top;\n",
       "    }\n",
       "\n",
       "    .dataframe thead th {\n",
       "        text-align: right;\n",
       "    }\n",
       "</style>\n",
       "<table border=\"1\" class=\"dataframe\">\n",
       "  <thead>\n",
       "    <tr style=\"text-align: right;\">\n",
       "      <th></th>\n",
       "      <th>room</th>\n",
       "      <th>livingRoom</th>\n",
       "      <th>area</th>\n",
       "      <th>age</th>\n",
       "      <th>floor</th>\n",
       "      <th>price</th>\n",
       "    </tr>\n",
       "  </thead>\n",
       "  <tbody>\n",
       "    <tr>\n",
       "      <th>count</th>\n",
       "      <td>6116.000000</td>\n",
       "      <td>6116.0</td>\n",
       "      <td>6116.000000</td>\n",
       "      <td>6116.000000</td>\n",
       "      <td>6116.000000</td>\n",
       "      <td>6116.000000</td>\n",
       "    </tr>\n",
       "    <tr>\n",
       "      <th>mean</th>\n",
       "      <td>2.180020</td>\n",
       "      <td>1.0</td>\n",
       "      <td>104.830445</td>\n",
       "      <td>12.698169</td>\n",
       "      <td>2.191465</td>\n",
       "      <td>18170.733976</td>\n",
       "    </tr>\n",
       "    <tr>\n",
       "      <th>std</th>\n",
       "      <td>0.826463</td>\n",
       "      <td>0.0</td>\n",
       "      <td>39.467687</td>\n",
       "      <td>10.465384</td>\n",
       "      <td>1.601042</td>\n",
       "      <td>10323.229150</td>\n",
       "    </tr>\n",
       "    <tr>\n",
       "      <th>min</th>\n",
       "      <td>1.000000</td>\n",
       "      <td>1.0</td>\n",
       "      <td>5.000000</td>\n",
       "      <td>0.000000</td>\n",
       "      <td>-2.000000</td>\n",
       "      <td>3000.000000</td>\n",
       "    </tr>\n",
       "    <tr>\n",
       "      <th>25%</th>\n",
       "      <td>2.000000</td>\n",
       "      <td>1.0</td>\n",
       "      <td>75.000000</td>\n",
       "      <td>4.000000</td>\n",
       "      <td>1.000000</td>\n",
       "      <td>11500.000000</td>\n",
       "    </tr>\n",
       "    <tr>\n",
       "      <th>50%</th>\n",
       "      <td>2.000000</td>\n",
       "      <td>1.0</td>\n",
       "      <td>100.000000</td>\n",
       "      <td>10.000000</td>\n",
       "      <td>2.000000</td>\n",
       "      <td>15000.000000</td>\n",
       "    </tr>\n",
       "    <tr>\n",
       "      <th>75%</th>\n",
       "      <td>3.000000</td>\n",
       "      <td>1.0</td>\n",
       "      <td>130.000000</td>\n",
       "      <td>20.000000</td>\n",
       "      <td>3.000000</td>\n",
       "      <td>21000.000000</td>\n",
       "    </tr>\n",
       "    <tr>\n",
       "      <th>max</th>\n",
       "      <td>4.000000</td>\n",
       "      <td>1.0</td>\n",
       "      <td>240.000000</td>\n",
       "      <td>44.000000</td>\n",
       "      <td>6.000000</td>\n",
       "      <td>60000.000000</td>\n",
       "    </tr>\n",
       "  </tbody>\n",
       "</table>\n",
       "</div>"
      ],
      "text/plain": [
       "              room  livingRoom         area          age        floor  \\\n",
       "count  6116.000000      6116.0  6116.000000  6116.000000  6116.000000   \n",
       "mean      2.180020         1.0   104.830445    12.698169     2.191465   \n",
       "std       0.826463         0.0    39.467687    10.465384     1.601042   \n",
       "min       1.000000         1.0     5.000000     0.000000    -2.000000   \n",
       "25%       2.000000         1.0    75.000000     4.000000     1.000000   \n",
       "50%       2.000000         1.0   100.000000    10.000000     2.000000   \n",
       "75%       3.000000         1.0   130.000000    20.000000     3.000000   \n",
       "max       4.000000         1.0   240.000000    44.000000     6.000000   \n",
       "\n",
       "              price  \n",
       "count   6116.000000  \n",
       "mean   18170.733976  \n",
       "std    10323.229150  \n",
       "min     3000.000000  \n",
       "25%    11500.000000  \n",
       "50%    15000.000000  \n",
       "75%    21000.000000  \n",
       "max    60000.000000  "
      ]
     },
     "execution_count": 16,
     "metadata": {},
     "output_type": "execute_result"
    }
   ],
   "source": [
    "df.describe()"
   ]
  },
  {
   "cell_type": "code",
   "execution_count": 17,
   "metadata": {},
   "outputs": [],
   "source": [
    "df.to_csv('data_cleaned.csv', index=False)"
   ]
  },
  {
   "cell_type": "code",
   "execution_count": null,
   "metadata": {},
   "outputs": [],
   "source": []
  }
 ],
 "metadata": {
  "kernelspec": {
   "display_name": "base",
   "language": "python",
   "name": "python3"
  },
  "language_info": {
   "codemirror_mode": {
    "name": "ipython",
    "version": 3
   },
   "file_extension": ".py",
   "mimetype": "text/x-python",
   "name": "python",
   "nbconvert_exporter": "python",
   "pygments_lexer": "ipython3",
   "version": "3.11.5"
  }
 },
 "nbformat": 4,
 "nbformat_minor": 2
}
