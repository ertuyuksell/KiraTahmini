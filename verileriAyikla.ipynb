{
 "cells": [
  {
   "cell_type": "code",
   "execution_count": 138,
   "metadata": {},
   "outputs": [],
   "source": [
    "import pandas as pd \n",
    "import os \n",
    "import numpy as np \n"
   ]
  },
  {
   "cell_type": "code",
   "execution_count": 139,
   "metadata": {},
   "outputs": [],
   "source": [
    "def drop_columns(df,cols):\n",
    "    for col in cols:\n",
    "        try:\n",
    "            df.drop([col],inplace=True,axis=1)\n",
    "        except Exception as e:\n",
    "            print(f\"Bir hata oluştu{e}\")"
   ]
  },
  {
   "cell_type": "code",
   "execution_count": 140,
   "metadata": {},
   "outputs": [],
   "source": [
    "df = pd.read_csv('emlakVerileri/01.csv')"
   ]
  },
  {
   "cell_type": "code",
   "execution_count": 141,
   "metadata": {},
   "outputs": [
    {
     "name": "stdout",
     "output_type": "stream",
     "text": [
      "<class 'pandas.core.frame.DataFrame'>\n",
      "RangeIndex: 1416 entries, 0 to 1415\n",
      "Data columns (total 14 columns):\n",
      " #   Column               Non-Null Count  Dtype \n",
      "---  ------               --------------  ----- \n",
      " 0   img-link href        1416 non-null   object\n",
      " 1   photo-count          1416 non-null   int64 \n",
      " 2   list-view-price      1416 non-null   object\n",
      " 3   list-view-date       1416 non-null   object\n",
      " 4   left                 1416 non-null   object\n",
      " 5   celly                1416 non-null   object\n",
      " 6   celly 2              1416 non-null   object\n",
      " 7   celly 3              1416 non-null   object\n",
      " 8   celly 4              1247 non-null   object\n",
      " 9   list-view-location   1416 non-null   object\n",
      " 10  img-wrp href         642 non-null    object\n",
      " 11  he-lazy-image src    1321 non-null   object\n",
      " 12  he-lazy-image src 2  563 non-null    object\n",
      " 13  list-view-header     1412 non-null   object\n",
      "dtypes: int64(1), object(13)\n",
      "memory usage: 155.0+ KB\n",
      "None\n"
     ]
    }
   ],
   "source": [
    "print(df.info())"
   ]
  },
  {
   "cell_type": "code",
   "execution_count": 142,
   "metadata": {},
   "outputs": [],
   "source": [
    "files = os.listdir('emlakVerileri')\n",
    "df =pd.concat([pd.read_csv(f\"emlakVerileri/{file}\") for file in files], ignore_index=True)"
   ]
  },
  {
   "cell_type": "code",
   "execution_count": 143,
   "metadata": {},
   "outputs": [
    {
     "name": "stdout",
     "output_type": "stream",
     "text": [
      "<class 'pandas.core.frame.DataFrame'>\n",
      "RangeIndex: 8136 entries, 0 to 8135\n",
      "Data columns (total 18 columns):\n",
      " #   Column               Non-Null Count  Dtype  \n",
      "---  ------               --------------  -----  \n",
      " 0   img-link href        8136 non-null   object \n",
      " 1   photo-count          8130 non-null   float64\n",
      " 2   list-view-price      8136 non-null   object \n",
      " 3   list-view-date       8136 non-null   object \n",
      " 4   left                 8114 non-null   object \n",
      " 5   celly                8136 non-null   object \n",
      " 6   celly 2              8136 non-null   object \n",
      " 7   celly 3              8136 non-null   object \n",
      " 8   celly 4              6858 non-null   object \n",
      " 9   list-view-location   8136 non-null   object \n",
      " 10  img-wrp href         4555 non-null   object \n",
      " 11  he-lazy-image src    7649 non-null   object \n",
      " 12  he-lazy-image src 2  4067 non-null   object \n",
      " 13  list-view-header     8129 non-null   object \n",
      " 14  branded__text        134 non-null    object \n",
      " 15  branded__text 2      134 non-null    object \n",
      " 16  img-wrp href 2       133 non-null    object \n",
      " 17  he-lazy-image src 3  116 non-null    object \n",
      "dtypes: float64(1), object(17)\n",
      "memory usage: 1.1+ MB\n"
     ]
    }
   ],
   "source": [
    "df.info()"
   ]
  },
  {
   "cell_type": "code",
   "execution_count": 144,
   "metadata": {},
   "outputs": [
    {
     "data": {
      "text/plain": [
       "Index(['img-link href', 'photo-count', 'list-view-price', 'list-view-date',\n",
       "       'left', 'celly', 'celly 2', 'celly 3', 'celly 4', 'list-view-location',\n",
       "       'img-wrp href', 'he-lazy-image src', 'he-lazy-image src 2',\n",
       "       'list-view-header', 'branded__text', 'branded__text 2',\n",
       "       'img-wrp href 2', 'he-lazy-image src 3'],\n",
       "      dtype='object')"
      ]
     },
     "execution_count": 144,
     "metadata": {},
     "output_type": "execute_result"
    }
   ],
   "source": [
    "df.columns"
   ]
  },
  {
   "cell_type": "code",
   "execution_count": 145,
   "metadata": {},
   "outputs": [],
   "source": [
    "cols=[ 'photo-count',  'list-view-date','left','list-view-location','img-wrp href', 'he-lazy-image src', 'he-lazy-image src 2','list-view-header', 'branded__text', 'branded__text 2','img-wrp href 2', 'he-lazy-image src 3']\n",
    "drop_columns(df,cols)"
   ]
  },
  {
   "cell_type": "code",
   "execution_count": 146,
   "metadata": {},
   "outputs": [
    {
     "name": "stdout",
     "output_type": "stream",
     "text": [
      "<class 'pandas.core.frame.DataFrame'>\n",
      "RangeIndex: 8136 entries, 0 to 8135\n",
      "Data columns (total 6 columns):\n",
      " #   Column           Non-Null Count  Dtype \n",
      "---  ------           --------------  ----- \n",
      " 0   img-link href    8136 non-null   object\n",
      " 1   list-view-price  8136 non-null   object\n",
      " 2   celly            8136 non-null   object\n",
      " 3   celly 2          8136 non-null   object\n",
      " 4   celly 3          8136 non-null   object\n",
      " 5   celly 4          6858 non-null   object\n",
      "dtypes: object(6)\n",
      "memory usage: 381.5+ KB\n"
     ]
    }
   ],
   "source": [
    "df.info()"
   ]
  },
  {
   "cell_type": "code",
   "execution_count": 147,
   "metadata": {},
   "outputs": [],
   "source": [
    "df['location'] = df['img-link href'].apply(lambda x: x.split('/')[3])\n",
    "df['city'] = df['location'].str.split('-').str[0]\n",
    "df['district'] = df['location'].str.split('-').str[1]\n",
    "df['neighborhood'] = df['location'].str.split('-').str[2:-1]\n",
    "df['neighborhood'] = df['neighborhood'].apply(lambda x : '_'.join(x))\n"
   ]
  },
  {
   "cell_type": "code",
   "execution_count": 148,
   "metadata": {},
   "outputs": [
    {
     "data": {
      "text/plain": [
       "Index(['img-link href', 'list-view-price', 'celly', 'celly 2', 'celly 3',\n",
       "       'celly 4', 'location', 'city', 'district', 'neighborhood'],\n",
       "      dtype='object')"
      ]
     },
     "execution_count": 148,
     "metadata": {},
     "output_type": "execute_result"
    }
   ],
   "source": [
    "df.columns"
   ]
  },
  {
   "cell_type": "code",
   "execution_count": 149,
   "metadata": {},
   "outputs": [],
   "source": [
    "drop_columns(df,['img-link href','location'])"
   ]
  },
  {
   "cell_type": "code",
   "execution_count": 150,
   "metadata": {},
   "outputs": [
    {
     "data": {
      "text/plain": [
       "Index(['list-view-price', 'celly', 'celly 2', 'celly 3', 'celly 4', 'city',\n",
       "       'district', 'neighborhood'],\n",
       "      dtype='object')"
      ]
     },
     "execution_count": 150,
     "metadata": {},
     "output_type": "execute_result"
    }
   ],
   "source": [
    "df.columns"
   ]
  },
  {
   "cell_type": "code",
   "execution_count": 151,
   "metadata": {},
   "outputs": [
    {
     "data": {
      "text/plain": [
       "array(['1 +\\n                        1', '3 +\\n                        1',\n",
       "       '2 +\\n                        1', '4 +\\n                        1',\n",
       "       '4 +\\n                        2', '5 +\\n                        1',\n",
       "       '6 +\\n                        1', '7 +\\n                        1',\n",
       "       '21 +\\n                        1',\n",
       "       '6 +\\n                        2', '5 +\\n                        2',\n",
       "       'Stüdyo', '7 +\\n                        2',\n",
       "       '3 +\\n                        2', '2 +\\n                        0',\n",
       "       '6 +\\n                        0', '9 +\\n                        4',\n",
       "       '9 +\\n                        1', '3 +\\n                        0',\n",
       "       '1 +\\n                        15',\n",
       "       '2 +\\n                        2', '8 +\\n                        1',\n",
       "       '41 +\\n                        4',\n",
       "       '4 +\\n                        0',\n",
       "       '1 +\\n                        25',\n",
       "       '4 +\\n                        4', '3 +\\n                        4',\n",
       "       '1 +\\n                        2', '3 +\\n                        3',\n",
       "       '31 +\\n                        1',\n",
       "       '4 +\\n                        3', '9 +\\n                        5',\n",
       "       '8 +\\n                        4', '4 +\\n                        5',\n",
       "       '9 +\\n                        3',\n",
       "       '25 +\\n                        5',\n",
       "       '8 +\\n                        0', '9 +\\n                        9',\n",
       "       '14 +\\n                        6',\n",
       "       '10 +\\n                        1'], dtype=object)"
      ]
     },
     "execution_count": 151,
     "metadata": {},
     "output_type": "execute_result"
    }
   ],
   "source": [
    "df['celly'].unique()"
   ]
  },
  {
   "cell_type": "code",
   "execution_count": 152,
   "metadata": {},
   "outputs": [],
   "source": [
    "df['celly'] = df['celly'].apply(lambda x: x.replace('Stüdyo','1 + 0'))\n",
    "df['celly'] = df['celly'].apply(lambda x: x.replace('\\n',''))\n",
    "df['room'] = df['celly'].apply(lambda x: x.split('+')[0]).astype(int)\n",
    "df['livingRoom'] = df['celly'].apply(lambda x: x.split('+')[1]).astype(int)"
   ]
  },
  {
   "cell_type": "code",
   "execution_count": 153,
   "metadata": {},
   "outputs": [],
   "source": [
    "drop_columns(df,['celly'])"
   ]
  },
  {
   "cell_type": "code",
   "execution_count": 154,
   "metadata": {},
   "outputs": [
    {
     "name": "stdout",
     "output_type": "stream",
     "text": [
      "<class 'pandas.core.frame.DataFrame'>\n",
      "RangeIndex: 8136 entries, 0 to 8135\n",
      "Data columns (total 9 columns):\n",
      " #   Column           Non-Null Count  Dtype \n",
      "---  ------           --------------  ----- \n",
      " 0   list-view-price  8136 non-null   object\n",
      " 1   celly 2          8136 non-null   object\n",
      " 2   celly 3          8136 non-null   object\n",
      " 3   celly 4          6858 non-null   object\n",
      " 4   city             8136 non-null   object\n",
      " 5   district         8136 non-null   object\n",
      " 6   neighborhood     8136 non-null   object\n",
      " 7   room             8136 non-null   int32 \n",
      " 8   livingRoom       8136 non-null   int32 \n",
      "dtypes: int32(2), object(7)\n",
      "memory usage: 508.6+ KB\n"
     ]
    }
   ],
   "source": [
    "df.info()"
   ]
  },
  {
   "cell_type": "code",
   "execution_count": 155,
   "metadata": {},
   "outputs": [
    {
     "data": {
      "text/plain": [
       "array(['55 m²', '150 m²', '60 m²', '160 m²', '135 m²', '67 m²', '140 m²',\n",
       "       '170 m²', '130 m²', '230 m²', '220 m²', '210 m²', '89 m²',\n",
       "       '120 m²', '200 m²', '355 m²', '75 m²', '110 m²', '100 m²', '65 m²',\n",
       "       '145 m²', '115 m²', '1.000 m²', '250 m²', '105 m²', '50 m²',\n",
       "       '87 m²', '90 m²', '85 m²', '155 m²', '275 m²', '240 m²', '95 m²',\n",
       "       '174 m²', '80 m²', '125 m²', '180 m²', '165 m²', '350 m²', '97 m²',\n",
       "       '45 m²', '300 m²', '84 m²', '42 m²', '98 m²', '86 m²', '500 m²',\n",
       "       '70 m²', '51 m²', '73 m²', '132 m²', '325 m²', '141 m²', '450 m²',\n",
       "       '600 m²', '47 m²', '72 m²', '71 m²', '3.000 m²', '175 m²',\n",
       "       '320 m²', '280 m²', '156 m²', '190 m²', '78 m²', '162 m²',\n",
       "       '185 m²', '18 m²', '330 m²', '151 m²', '56 m²', '136 m²', '131 m²',\n",
       "       '48 m²', '580 m²', '119 m²', '147 m²', '77 m²', '245 m²', '35 m²',\n",
       "       '375 m²', '146 m²', '161 m²', '163 m²', '149 m²', '206 m²',\n",
       "       '138 m²', '93 m²', '63 m²', '41 m²', '183 m²', '96 m²', '108 m²',\n",
       "       '76 m²', '475 m²', '359 m²', '124 m²', '91 m²', '194 m²', '43 m²',\n",
       "       '4.500 m²', '68 m²', '205 m²', '20 m²', '103 m²', '53 m²',\n",
       "       '270 m²', '58 m²', '302 m²', '505 m²', '800 m²', '168 m²',\n",
       "       '154 m²', '368 m²', '178 m²', '40 m²', '750 m²', '92 m²', '181 m²',\n",
       "       '400 m²', '30 m²', '260 m²', '460 m²', '390 m²', '64 m²', '360 m²',\n",
       "       '340 m²', '550 m²', '38 m²', '121 m²', '4.000 m²', '295 m²',\n",
       "       '112 m²', '137 m²', '22 m²', '128 m²', '3.200 m²', '440 m²',\n",
       "       '122 m²', '370 m²', '380 m²', '204 m²', '148 m²', '142 m²',\n",
       "       '520 m²', '166 m²', '870 m²', '143 m²', '57 m²', '286 m²', '81 m²',\n",
       "       '116 m²', '209 m²', '59 m²', '106 m²', '74 m²', '1.301 m²',\n",
       "       '52 m²', '167 m²', '217 m²', '25 m²', '290 m²', '196 m²', '184 m²',\n",
       "       '159 m²', '195 m²', '640 m²', '285 m²', '235 m²', '337 m²',\n",
       "       '211 m²', '134 m²', '832 m²', '152 m²', '88 m²', '213 m²',\n",
       "       '126 m²', '255 m²', '199 m²', '127 m²', '11 m²', '66 m²', '399 m²',\n",
       "       '187 m²', '341 m²', '745 m²', '118 m²', '144 m²', '15 m²',\n",
       "       '535 m²', '5.500 m²', '114 m²', '208 m²', '94 m²', '46 m²',\n",
       "       '173 m²', '900 m²', '225 m²', '402 m²', '111 m²', '193 m²',\n",
       "       '1.100 m²', '212 m²', '102 m²', '177 m²', '101 m²', '164 m²',\n",
       "       '158 m²', '62 m²', '172 m²', '9.000 m²', '21 m²', '117 m²',\n",
       "       '82 m²', '49 m²', '176 m²', '182 m²', '981 m²', '256 m²', '32 m²',\n",
       "       '3.510 m²', '215 m²', '1.057 m²', '171 m²', '79 m²', '169 m²',\n",
       "       '28 m²', '104 m²', '201 m²', '310 m²', '1.150 m²', '2.000 m²',\n",
       "       '228 m²', '700 m²', '349 m²', '203 m²', '510 m²', '31 m²', '33 m²',\n",
       "       '950 m²', '650 m²', '252 m²', '493 m²', '265 m²', '1.400 m²',\n",
       "       '5 m²', '113 m²', '36 m²', '317 m²', '850 m²', '249 m²', '109 m²',\n",
       "       '420 m²', '995 m²', '545 m²', '192 m²', '1.250 m²', '490 m²',\n",
       "       '760 m²', '157 m²', '54 m²', '405 m²', '99 m²'], dtype=object)"
      ]
     },
     "execution_count": 155,
     "metadata": {},
     "output_type": "execute_result"
    }
   ],
   "source": [
    "df['celly 2'].unique()"
   ]
  },
  {
   "cell_type": "code",
   "execution_count": 156,
   "metadata": {},
   "outputs": [],
   "source": [
    "df['celly 2'] = df['celly 2'].apply(lambda x: x.replace('.',''))\n",
    "df['area'] = df['celly 2'].apply(lambda x: x.split(' ')[0]).astype(int)\n"
   ]
  },
  {
   "cell_type": "code",
   "execution_count": 157,
   "metadata": {},
   "outputs": [
    {
     "data": {
      "text/plain": [
       "array([  55,  150,   60,  160,  135,   67,  140,  170,  130,  230,  220,\n",
       "        210,   89,  120,  200,  355,   75,  110,  100,   65,  145,  115,\n",
       "       1000,  250,  105,   50,   87,   90,   85,  155,  275,  240,   95,\n",
       "        174,   80,  125,  180,  165,  350,   97,   45,  300,   84,   42,\n",
       "         98,   86,  500,   70,   51,   73,  132,  325,  141,  450,  600,\n",
       "         47,   72,   71, 3000,  175,  320,  280,  156,  190,   78,  162,\n",
       "        185,   18,  330,  151,   56,  136,  131,   48,  580,  119,  147,\n",
       "         77,  245,   35,  375,  146,  161,  163,  149,  206,  138,   93,\n",
       "         63,   41,  183,   96,  108,   76,  475,  359,  124,   91,  194,\n",
       "         43, 4500,   68,  205,   20,  103,   53,  270,   58,  302,  505,\n",
       "        800,  168,  154,  368,  178,   40,  750,   92,  181,  400,   30,\n",
       "        260,  460,  390,   64,  360,  340,  550,   38,  121, 4000,  295,\n",
       "        112,  137,   22,  128, 3200,  440,  122,  370,  380,  204,  148,\n",
       "        142,  520,  166,  870,  143,   57,  286,   81,  116,  209,   59,\n",
       "        106,   74, 1301,   52,  167,  217,   25,  290,  196,  184,  159,\n",
       "        195,  640,  285,  235,  337,  211,  134,  832,  152,   88,  213,\n",
       "        126,  255,  199,  127,   11,   66,  399,  187,  341,  745,  118,\n",
       "        144,   15,  535, 5500,  114,  208,   94,   46,  173,  900,  225,\n",
       "        402,  111,  193, 1100,  212,  102,  177,  101,  164,  158,   62,\n",
       "        172, 9000,   21,  117,   82,   49,  176,  182,  981,  256,   32,\n",
       "       3510,  215, 1057,  171,   79,  169,   28,  104,  201,  310, 1150,\n",
       "       2000,  228,  700,  349,  203,  510,   31,   33,  950,  650,  252,\n",
       "        493,  265, 1400,    5,  113,   36,  317,  850,  249,  109,  420,\n",
       "        995,  545,  192, 1250,  490,  760,  157,   54,  405,   99])"
      ]
     },
     "execution_count": 157,
     "metadata": {},
     "output_type": "execute_result"
    }
   ],
   "source": [
    "df['area'].unique()"
   ]
  },
  {
   "cell_type": "code",
   "execution_count": 158,
   "metadata": {},
   "outputs": [
    {
     "data": {
      "text/plain": [
       "array(['25\\n                      Yaşında',\n",
       "       '35\\n                      Yaşında',\n",
       "       '2\\n                      Yaşında',\n",
       "       '27\\n                      Yaşında',\n",
       "       '15\\n                      Yaşında',\n",
       "       '10\\n                      Yaşında',\n",
       "       '20\\n                      Yaşında',\n",
       "       '30\\n                      Yaşında',\n",
       "       '16\\n                      Yaşında',\n",
       "       '11\\n                      Yaşında',\n",
       "       '31\\n                      Yaşında', 'Sıfır Bina',\n",
       "       '5\\n                      Yaşında',\n",
       "       '26\\n                      Yaşında',\n",
       "       '12\\n                      Yaşında',\n",
       "       '4\\n                      Yaşında',\n",
       "       '6\\n                      Yaşında',\n",
       "       '22\\n                      Yaşında',\n",
       "       '23\\n                      Yaşında',\n",
       "       '29\\n                      Yaşında',\n",
       "       '3\\n                      Yaşında',\n",
       "       '8\\n                      Yaşında',\n",
       "       '33\\n                      Yaşında',\n",
       "       '50\\n                      Yaşında',\n",
       "       '7\\n                      Yaşında',\n",
       "       '18\\n                      Yaşında',\n",
       "       '32\\n                      Yaşında',\n",
       "       '28\\n                      Yaşında',\n",
       "       '14\\n                      Yaşında',\n",
       "       '40\\n                      Yaşında',\n",
       "       '9\\n                      Yaşında',\n",
       "       '21\\n                      Yaşında',\n",
       "       '45\\n                      Yaşında',\n",
       "       '38\\n                      Yaşında',\n",
       "       '19\\n                      Yaşında',\n",
       "       '24\\n                      Yaşında',\n",
       "       '17\\n                      Yaşında',\n",
       "       '1\\n                      Yaşında',\n",
       "       '36\\n                      Yaşında',\n",
       "       '34\\n                      Yaşında',\n",
       "       '13\\n                      Yaşında',\n",
       "       '42\\n                      Yaşında',\n",
       "       '44\\n                      Yaşında',\n",
       "       '43\\n                      Yaşında',\n",
       "       '37\\n                      Yaşında',\n",
       "       '55\\n                      Yaşında',\n",
       "       '47\\n                      Yaşında',\n",
       "       '39\\n                      Yaşında',\n",
       "       '49\\n                      Yaşında',\n",
       "       '52\\n                      Yaşında',\n",
       "       '300\\n                      Yaşında',\n",
       "       '199\\n                      Yaşında',\n",
       "       '48\\n                      Yaşında',\n",
       "       '60\\n                      Yaşında',\n",
       "       '61\\n                      Yaşında',\n",
       "       '600\\n                      Yaşında',\n",
       "       '100\\n                      Yaşında'], dtype=object)"
      ]
     },
     "execution_count": 158,
     "metadata": {},
     "output_type": "execute_result"
    }
   ],
   "source": [
    "df['celly 3'].unique()"
   ]
  },
  {
   "cell_type": "code",
   "execution_count": 159,
   "metadata": {},
   "outputs": [],
   "source": [
    "df['celly 3'] = df['celly 3'].apply(lambda x: x.replace('Sıfır Bina', '0'))\n",
    "df['celly 3'] = df['celly 3'].apply(lambda x: x.replace('\\n', ' '))\n",
    "df['age'] = df['celly 3'].apply(lambda x: x.split(' ')[0]).astype(int)"
   ]
  },
  {
   "cell_type": "code",
   "execution_count": 160,
   "metadata": {},
   "outputs": [
    {
     "data": {
      "text/plain": [
       "array([ 25,  35,   2,  27,  15,  10,  20,  30,  16,  11,  31,   0,   5,\n",
       "        26,  12,   4,   6,  22,  23,  29,   3,   8,  33,  50,   7,  18,\n",
       "        32,  28,  14,  40,   9,  21,  45,  38,  19,  24,  17,   1,  36,\n",
       "        34,  13,  42,  44,  43,  37,  55,  47,  39,  49,  52, 300, 199,\n",
       "        48,  60,  61, 600, 100])"
      ]
     },
     "execution_count": 160,
     "metadata": {},
     "output_type": "execute_result"
    }
   ],
   "source": [
    "df['age'].unique()"
   ]
  },
  {
   "cell_type": "code",
   "execution_count": 161,
   "metadata": {},
   "outputs": [],
   "source": [
    "drop_columns(df,['celly 3'])"
   ]
  },
  {
   "cell_type": "code",
   "execution_count": 162,
   "metadata": {},
   "outputs": [
    {
     "data": {
      "text/plain": [
       "array(['Yüksek Giriş', '3. Kat', 'Ara Kat', '4. Kat', '2. Kat', 'Zemin',\n",
       "       nan, 'Tripleks', 'Villa Katı', 'Bahçe Katı', '1. Kat', '8. Kat',\n",
       "       '6. Kat', 'Giriş Katı', '5. Kat', '7. Kat', '21 ve üzeri',\n",
       "       'En Üst Kat', 'Teras Katı', '13. Kat', 'Kot 1', '9. Kat',\n",
       "       'Çatı Katı', '10. Kat', '12. Kat', 'Kot 2', '15. Kat',\n",
       "       'Bodrum ve Zemin', '11. Kat', 'Kot 3', '18. Kat', '20. Kat',\n",
       "       'Yarı Bodrum', '14. Kat', '16. Kat', '17. Kat', 'Asma Kat',\n",
       "       'Bodrum', '19. Kat'], dtype=object)"
      ]
     },
     "execution_count": 162,
     "metadata": {},
     "output_type": "execute_result"
    }
   ],
   "source": [
    "df['celly 4'].unique()"
   ]
  },
  {
   "cell_type": "code",
   "execution_count": 166,
   "metadata": {},
   "outputs": [],
   "source": [
    "replaceDict={\n",
    "    'Kot 2':'-2. Kat',\n",
    "    'Kot 1': '-1. Kat',\n",
    "    'Kot 3':'-3. Kat',\n",
    "    'Yüksek Giriş': '1. Kat',\n",
    "    'Ara Kat': '3.Kat',\n",
    "    'Zemin' : '0. Kat',\n",
    "    'En Üst Kat' : '5. Kat',\n",
    "    'Villa Katı': '0. Kat',\n",
    "    'Bahçe Katı': '0. Kat',\n",
    "    'Giriş Katı': '0. Kat',\n",
    "    'Teras Katı': '5. Kat',\n",
    "    '21 ve üzeri': '21. Kat',\n",
    "    'Çatı Katı': '5. Kat',\n",
    "    'Bodrum ve Zemin': '-1. Kat',\n",
    "    'Yarı Bodrum': '-1. Kat',\n",
    "    'Asma Kat': '1. Kat',\n",
    "    'Bodrum': '-1. Kat',\n",
    "    'Tripleks':'0. Kat',\n",
    "}\n",
    "df['celly 4'] = df['celly 4'].replace(replaceDict.keys(),replaceDict.values()).astype(str)\n",
    "df['celly 4'].dropna(inplace=True)\n",
    "df['floor']=df['celly 4'].apply(lambda x: x.split('.')[0]).astype(int)"
   ]
  },
  {
   "cell_type": "code",
   "execution_count": 167,
   "metadata": {},
   "outputs": [
    {
     "data": {
      "text/plain": [
       "array([ 1,  3,  4,  2,  0,  8,  6,  5,  7, 21, 13, -1,  9, 10, 12, -2, 15,\n",
       "       11, -3, 18, 20, 14, 16, 17, 19])"
      ]
     },
     "execution_count": 167,
     "metadata": {},
     "output_type": "execute_result"
    }
   ],
   "source": [
    "df['floor'].unique()"
   ]
  },
  {
   "cell_type": "code",
   "execution_count": null,
   "metadata": {},
   "outputs": [],
   "source": [
    "drop_columns(df,['celly 4'])"
   ]
  },
  {
   "cell_type": "code",
   "execution_count": 172,
   "metadata": {},
   "outputs": [
    {
     "name": "stdout",
     "output_type": "stream",
     "text": [
      "<class 'pandas.core.frame.DataFrame'>\n",
      "RangeIndex: 8136 entries, 0 to 8135\n",
      "Data columns (total 9 columns):\n",
      " #   Column           Non-Null Count  Dtype \n",
      "---  ------           --------------  ----- \n",
      " 0   list-view-price  8136 non-null   object\n",
      " 1   city             8136 non-null   object\n",
      " 2   district         8136 non-null   object\n",
      " 3   neighborhood     8136 non-null   object\n",
      " 4   room             8136 non-null   int32 \n",
      " 5   livingRoom       8136 non-null   int32 \n",
      " 6   area             8136 non-null   int32 \n",
      " 7   age              8136 non-null   int32 \n",
      " 8   floor            8136 non-null   int32 \n",
      "dtypes: int32(5), object(4)\n",
      "memory usage: 413.3+ KB\n"
     ]
    }
   ],
   "source": [
    "df.info()"
   ]
  },
  {
   "cell_type": "code",
   "execution_count": 173,
   "metadata": {},
   "outputs": [
    {
     "data": {
      "text/plain": [
       "array(['12.000', '16.000', '200', '18.000', '45.000', '35.000', '25.000',\n",
       "       '22.000', '15.000', '24.000', '240.000', '1.200.000', '30.000',\n",
       "       '20.000', '180.000', '60.000', '10.500', '10.000', '55.000',\n",
       "       '13.000', '12.500', '21.000', '250.000', '190.000', '42.500',\n",
       "       '17.000', '11.000', '450.000', '27.500', '80.000', '23.000',\n",
       "       '550.000', '19.750', '75.000', '50.000', '34.000', '19.500',\n",
       "       '28.500', '24.500', '325.000', '28.000', '29.000', '750.000',\n",
       "       '600.000', '16.750', '500.000', '14.000', '220.000', '19.000',\n",
       "       '21.500', '350.000', '9.000', '14.500', '25.500', '18.500',\n",
       "       '300.000', '480.000', '150.000', '5.000', '16.500', '525.000',\n",
       "       '370.000', '13.750', '17.500', '27.000', '11.500', '200.000',\n",
       "       '90.000', '64.000', '15.750', '118.000', '1.000.000', '400.000',\n",
       "       '70.000', '13.500', '210.000', '38.000', '1.800.000', '31.500',\n",
       "       '57.500', '49.900', '2.000', '4.875.000', '8.500', '700.000',\n",
       "       '15.250', '7.000', '40.000', '18.750', '22.500', '1.250.000',\n",
       "       '3.500', '32.000', '104.000', '1.600.000', '120.000', '20.500',\n",
       "       '650.000', '65.000', '48.000', '850.000', '17.250', '48.500',\n",
       "       '100.000', '22.500.000', '115.000', '57.000', '53.000', '66.000',\n",
       "       '12.950', '62.000', '265.000', '18.250', '185.000', '41.000',\n",
       "       '110.000', '26.900', '17.750', '62.500', '130.000', '7.500',\n",
       "       '33.000', '29.999', '14.750', '37.000', '16.200', '275.000',\n",
       "       '26.000', '8.000', '375.000', '8.250', '39.500', '98.500',\n",
       "       '46.000', '28.900', '9.250', '58.000', '15.900', '10.757',\n",
       "       '85.000', '10.750', '1.400.000', '175.000', '460.000', '29.500',\n",
       "       '13.250', '20.999', '31.000', '9.500', '15.500', '56.000',\n",
       "       '14.700', '269.900', '14.100', '530.000', '16.250', '49.000',\n",
       "       '36.500', '225.000', '6.500', '17.950', '10.900', '8.750',\n",
       "       '620.000', '140.000', '9.750', '125.000', '24.750', '2.550.000',\n",
       "       '1.000', '6.000', '95.000', '37.500', '7.250', '43.000', '5.500',\n",
       "       '83.000', '380.000', '280.000', '350', '4.500', '800.000',\n",
       "       '39.000', '21.750', '235.000', '96.000', '1.100.000', '425.000',\n",
       "       '52.500', '19.360', '4.000', '9.800', '680.000', '15.590.000',\n",
       "       '34.500', '170.000', '26.500', '18.450', '1.650.000', '23.500',\n",
       "       '365.000', '36.000', '10.400', '10.999', '160.000', '7.950',\n",
       "       '785.000', '2.250.000', '260.000', '13.900.000', '165.000',\n",
       "       '2.500', '290.000', '300', '475.000', '9.999', '9.200', '330.000',\n",
       "       '2.265.000', '590.000', '23', '29.750', '14.250', '1.050.000',\n",
       "       '1.750.000', '415.000', '430.000', '11.111', '720.000', '625.000',\n",
       "       '1.350.000', '15.950', '14.999', '195.000', '8.000.000',\n",
       "       '1.025.000', '67.000', '900.000', '1.500', '14.990', '950.000',\n",
       "       '270.000', '3.000', '10.800', '13.950', '780.000', '320.000',\n",
       "       '1.250', '63.000', '1.200', '675.000', '8.950', '760.000',\n",
       "       '420.000', '13', '67.500', '12', '26.750', '4.950', '440.000',\n",
       "       '15', '390.000', '1.725.000', '7.800', '7.750', '12.750',\n",
       "       '16.500.000', '11.250', '7.900', '12.850', '11.750', 7.5, 4.5,\n",
       "       10.0, 8.0, 19.0, 6.5, 18.5, 9.5, 7.0, 12.0, 6.0, 8.5, 15.0, 9.0,\n",
       "       7.75, 6.75, 16.5, 20.0, 22.0, 7.25, 21.0, 14.0, '4.250', '5.250',\n",
       "       '6.750', '6.600', '5.100', '5.600', '9.850', '26.000.000', '3.400',\n",
       "       '14.300', '8.700', '9.950.000', '120.000.000', '111', '11',\n",
       "       '890.000', '42.000', '4.650.000', '1.700', '8.550', '8.900',\n",
       "       '7.200', '3.500.000', '11.900', '1.190.000', '1.840.000', '6.250',\n",
       "       '8.100', '750', '7.999', '3.999', '6.900', '5.750', '7.400',\n",
       "       '6.999', '1.850.000', '7.100', '6.800', '5.700', '9.900', '4.999',\n",
       "       '4.750', '5.999', '8.400', '8.300', '44.000', '740.000',\n",
       "       '2.500.000', '360.000', '105.000', '355.000', '255.000', '72.000',\n",
       "       '1', '485.000', '285.000', '59.500', '245.000', '4.050.000',\n",
       "       '135.000', '32.500', '510.000', '1.225.000', '3.900.000', '3.250',\n",
       "       '30.000.000', '39.900', '243.000', '2.300.000', '25.000.000',\n",
       "       '49.950', '73.000', '840.000', '2.275.000', '410.000', '310.000',\n",
       "       '7.300', '32.750', '3.750', '3.000.000', '1.700.000', '1.150.000',\n",
       "       '2.750', '4.100', '16.350', '17.000.000', '921.180', '145.000',\n",
       "       '41.600', '495.000', '65.500', '2.250', '595.000', '19.800',\n",
       "       '54.000', '50.000.000', '48.000.000', '465.000', '860.000',\n",
       "       '630.000', '995.000', '241.800', '340.000', '4.450.000',\n",
       "       '6.500.000', '2.175.000', '2.000.000', '2.200.000', '6.150.000',\n",
       "       '16.400', '295.000', '1.070.000', '87.000', '1.750', '875.000',\n",
       "       '560.000', '3.250.000', '790.000'], dtype=object)"
      ]
     },
     "execution_count": 173,
     "metadata": {},
     "output_type": "execute_result"
    }
   ],
   "source": [
    "df['list-view-price'].unique()"
   ]
  },
  {
   "cell_type": "code",
   "execution_count": 174,
   "metadata": {},
   "outputs": [],
   "source": [
    "df['list-view-price'] = df['list-view-price'].astype(str).apply(lambda x : x.replace('.',''))\n",
    "df['price'] = df['list-view-price'].astype(int)"
   ]
  },
  {
   "cell_type": "code",
   "execution_count": 175,
   "metadata": {},
   "outputs": [
    {
     "data": {
      "text/plain": [
       "array([    12000,     16000,       200,     18000,     45000,     35000,\n",
       "           25000,     22000,     15000,     24000,    240000,   1200000,\n",
       "           30000,     20000,    180000,     60000,     10500,     10000,\n",
       "           55000,     13000,     12500,     21000,    250000,    190000,\n",
       "           42500,     17000,     11000,    450000,     27500,     80000,\n",
       "           23000,    550000,     19750,     75000,     50000,     34000,\n",
       "           19500,     28500,     24500,    325000,     28000,     29000,\n",
       "          750000,    600000,     16750,    500000,     14000,    220000,\n",
       "           19000,     21500,    350000,      9000,     14500,     25500,\n",
       "           18500,    300000,    480000,    150000,      5000,     16500,\n",
       "          525000,    370000,     13750,     17500,     27000,     11500,\n",
       "          200000,     90000,     64000,     15750,    118000,   1000000,\n",
       "          400000,     70000,     13500,    210000,     38000,   1800000,\n",
       "           31500,     57500,     49900,      2000,   4875000,      8500,\n",
       "          700000,     15250,      7000,     40000,     18750,     22500,\n",
       "         1250000,      3500,     32000,    104000,   1600000,    120000,\n",
       "           20500,    650000,     65000,     48000,    850000,     17250,\n",
       "           48500,    100000,  22500000,    115000,     57000,     53000,\n",
       "           66000,     12950,     62000,    265000,     18250,    185000,\n",
       "           41000,    110000,     26900,     17750,     62500,    130000,\n",
       "            7500,     33000,     29999,     14750,     37000,     16200,\n",
       "          275000,     26000,      8000,    375000,      8250,     39500,\n",
       "           98500,     46000,     28900,      9250,     58000,     15900,\n",
       "           10757,     85000,     10750,   1400000,    175000,    460000,\n",
       "           29500,     13250,     20999,     31000,      9500,     15500,\n",
       "           56000,     14700,    269900,     14100,    530000,     16250,\n",
       "           49000,     36500,    225000,      6500,     17950,     10900,\n",
       "            8750,    620000,    140000,      9750,    125000,     24750,\n",
       "         2550000,      1000,      6000,     95000,     37500,      7250,\n",
       "           43000,      5500,     83000,    380000,    280000,       350,\n",
       "            4500,    800000,     39000,     21750,    235000,     96000,\n",
       "         1100000,    425000,     52500,     19360,      4000,      9800,\n",
       "          680000,  15590000,     34500,    170000,     26500,     18450,\n",
       "         1650000,     23500,    365000,     36000,     10400,     10999,\n",
       "          160000,      7950,    785000,   2250000,    260000,  13900000,\n",
       "          165000,      2500,    290000,       300,    475000,      9999,\n",
       "            9200,    330000,   2265000,    590000,        23,     29750,\n",
       "           14250,   1050000,   1750000,    415000,    430000,     11111,\n",
       "          720000,    625000,   1350000,     15950,     14999,    195000,\n",
       "         8000000,   1025000,     67000,    900000,      1500,     14990,\n",
       "          950000,    270000,      3000,     10800,     13950,    780000,\n",
       "          320000,      1250,     63000,      1200,    675000,      8950,\n",
       "          760000,    420000,        13,     67500,        12,     26750,\n",
       "            4950,    440000,        15,    390000,   1725000,      7800,\n",
       "            7750,     12750,  16500000,     11250,      7900,     12850,\n",
       "           11750,        75,        45,       100,        80,       190,\n",
       "              65,       185,        95,        70,       120,        60,\n",
       "              85,       150,        90,       775,       675,       165,\n",
       "             220,       725,       210,       140,      4250,      5250,\n",
       "            6750,      6600,      5100,      5600,      9850,  26000000,\n",
       "            3400,     14300,      8700,   9950000, 120000000,       111,\n",
       "              11,    890000,     42000,   4650000,      1700,      8550,\n",
       "            8900,      7200,   3500000,     11900,   1190000,   1840000,\n",
       "            6250,      8100,       750,      7999,      3999,      6900,\n",
       "            5750,      7400,      6999,   1850000,      7100,      6800,\n",
       "            5700,      9900,      4999,      4750,      5999,      8400,\n",
       "            8300,     44000,    740000,   2500000,    360000,    105000,\n",
       "          355000,    255000,     72000,         1,    485000,    285000,\n",
       "           59500,    245000,   4050000,    135000,     32500,    510000,\n",
       "         1225000,   3900000,      3250,  30000000,     39900,    243000,\n",
       "         2300000,  25000000,     49950,     73000,    840000,   2275000,\n",
       "          410000,    310000,      7300,     32750,      3750,   3000000,\n",
       "         1700000,   1150000,      2750,      4100,     16350,  17000000,\n",
       "          921180,    145000,     41600,    495000,     65500,      2250,\n",
       "          595000,     19800,     54000,  50000000,  48000000,    465000,\n",
       "          860000,    630000,    995000,    241800,    340000,   4450000,\n",
       "         6500000,   2175000,   2000000,   2200000,   6150000,     16400,\n",
       "          295000,   1070000,     87000,      1750,    875000,    560000,\n",
       "         3250000,    790000])"
      ]
     },
     "execution_count": 175,
     "metadata": {},
     "output_type": "execute_result"
    }
   ],
   "source": [
    "df['price'].unique()"
   ]
  },
  {
   "cell_type": "code",
   "execution_count": 176,
   "metadata": {},
   "outputs": [],
   "source": [
    "drop_columns(df,['list-view-price'])"
   ]
  },
  {
   "cell_type": "code",
   "execution_count": 177,
   "metadata": {},
   "outputs": [
    {
     "name": "stdout",
     "output_type": "stream",
     "text": [
      "<class 'pandas.core.frame.DataFrame'>\n",
      "RangeIndex: 8136 entries, 0 to 8135\n",
      "Data columns (total 9 columns):\n",
      " #   Column        Non-Null Count  Dtype \n",
      "---  ------        --------------  ----- \n",
      " 0   city          8136 non-null   object\n",
      " 1   district      8136 non-null   object\n",
      " 2   neighborhood  8136 non-null   object\n",
      " 3   room          8136 non-null   int32 \n",
      " 4   livingRoom    8136 non-null   int32 \n",
      " 5   area          8136 non-null   int32 \n",
      " 6   age           8136 non-null   int32 \n",
      " 7   floor         8136 non-null   int32 \n",
      " 8   price         8136 non-null   int32 \n",
      "dtypes: int32(6), object(3)\n",
      "memory usage: 381.5+ KB\n"
     ]
    }
   ],
   "source": [
    "df.info()"
   ]
  },
  {
   "cell_type": "code",
   "execution_count": 178,
   "metadata": {},
   "outputs": [],
   "source": [
    "df.to_csv('data.csv',index=False)"
   ]
  },
  {
   "cell_type": "code",
   "execution_count": null,
   "metadata": {},
   "outputs": [],
   "source": []
  }
 ],
 "metadata": {
  "kernelspec": {
   "display_name": "base",
   "language": "python",
   "name": "python3"
  },
  "language_info": {
   "codemirror_mode": {
    "name": "ipython",
    "version": 3
   },
   "file_extension": ".py",
   "mimetype": "text/x-python",
   "name": "python",
   "nbconvert_exporter": "python",
   "pygments_lexer": "ipython3",
   "version": "3.11.5"
  }
 },
 "nbformat": 4,
 "nbformat_minor": 2
}
