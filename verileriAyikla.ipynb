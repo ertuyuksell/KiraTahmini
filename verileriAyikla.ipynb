{
 "cells": [
  {
   "cell_type": "code",
   "execution_count": 25,
   "metadata": {},
   "outputs": [],
   "source": [
    "import pandas as pd \n",
    "import os \n",
    "import numpy as np \n"
   ]
  },
  {
   "cell_type": "code",
   "execution_count": 26,
   "metadata": {},
   "outputs": [],
   "source": [
    "df = pd.read_csv('emlakVerileri/01.csv')"
   ]
  },
  {
   "cell_type": "code",
   "execution_count": 27,
   "metadata": {},
   "outputs": [
    {
     "name": "stdout",
     "output_type": "stream",
     "text": [
      "<class 'pandas.core.frame.DataFrame'>\n",
      "RangeIndex: 1416 entries, 0 to 1415\n",
      "Data columns (total 14 columns):\n",
      " #   Column               Non-Null Count  Dtype \n",
      "---  ------               --------------  ----- \n",
      " 0   img-link href        1416 non-null   object\n",
      " 1   photo-count          1416 non-null   int64 \n",
      " 2   list-view-price      1416 non-null   object\n",
      " 3   list-view-date       1416 non-null   object\n",
      " 4   left                 1416 non-null   object\n",
      " 5   celly                1416 non-null   object\n",
      " 6   celly 2              1416 non-null   object\n",
      " 7   celly 3              1416 non-null   object\n",
      " 8   celly 4              1247 non-null   object\n",
      " 9   list-view-location   1416 non-null   object\n",
      " 10  img-wrp href         642 non-null    object\n",
      " 11  he-lazy-image src    1321 non-null   object\n",
      " 12  he-lazy-image src 2  563 non-null    object\n",
      " 13  list-view-header     1412 non-null   object\n",
      "dtypes: int64(1), object(13)\n",
      "memory usage: 155.0+ KB\n",
      "None\n"
     ]
    }
   ],
   "source": [
    "print(df.info())"
   ]
  },
  {
   "cell_type": "code",
   "execution_count": 28,
   "metadata": {},
   "outputs": [],
   "source": [
    "files = os.listdir('emlakVerileri')\n",
    "df =pd.concat([pd.read_csv(f\"emlakVerileri/{file}\") for file in files], ignore_index=True)"
   ]
  },
  {
   "cell_type": "code",
   "execution_count": 29,
   "metadata": {},
   "outputs": [
    {
     "name": "stdout",
     "output_type": "stream",
     "text": [
      "<class 'pandas.core.frame.DataFrame'>\n",
      "RangeIndex: 8136 entries, 0 to 8135\n",
      "Data columns (total 18 columns):\n",
      " #   Column               Non-Null Count  Dtype  \n",
      "---  ------               --------------  -----  \n",
      " 0   img-link href        8136 non-null   object \n",
      " 1   photo-count          8130 non-null   float64\n",
      " 2   list-view-price      8136 non-null   object \n",
      " 3   list-view-date       8136 non-null   object \n",
      " 4   left                 8114 non-null   object \n",
      " 5   celly                8136 non-null   object \n",
      " 6   celly 2              8136 non-null   object \n",
      " 7   celly 3              8136 non-null   object \n",
      " 8   celly 4              6858 non-null   object \n",
      " 9   list-view-location   8136 non-null   object \n",
      " 10  img-wrp href         4555 non-null   object \n",
      " 11  he-lazy-image src    7649 non-null   object \n",
      " 12  he-lazy-image src 2  4067 non-null   object \n",
      " 13  list-view-header     8129 non-null   object \n",
      " 14  branded__text        134 non-null    object \n",
      " 15  branded__text 2      134 non-null    object \n",
      " 16  img-wrp href 2       133 non-null    object \n",
      " 17  he-lazy-image src 3  116 non-null    object \n",
      "dtypes: float64(1), object(17)\n",
      "memory usage: 1.1+ MB\n"
     ]
    }
   ],
   "source": [
    "df.info()"
   ]
  },
  {
   "cell_type": "code",
   "execution_count": 30,
   "metadata": {},
   "outputs": [
    {
     "data": {
      "text/plain": [
       "Index(['img-link href', 'photo-count', 'list-view-price', 'list-view-date',\n",
       "       'left', 'celly', 'celly 2', 'celly 3', 'celly 4', 'list-view-location',\n",
       "       'img-wrp href', 'he-lazy-image src', 'he-lazy-image src 2',\n",
       "       'list-view-header', 'branded__text', 'branded__text 2',\n",
       "       'img-wrp href 2', 'he-lazy-image src 3'],\n",
       "      dtype='object')"
      ]
     },
     "execution_count": 30,
     "metadata": {},
     "output_type": "execute_result"
    }
   ],
   "source": [
    "df.columns"
   ]
  },
  {
   "cell_type": "code",
   "execution_count": 32,
   "metadata": {},
   "outputs": [],
   "source": [
    "df.drop([ 'photo-count',  'list-view-date','left','list-view-location','img-wrp href', 'he-lazy-image src', 'he-lazy-image src 2','list-view-header', 'branded__text', 'branded__text 2','img-wrp href 2', 'he-lazy-image src 3'],inplace=True,axis=1)"
   ]
  },
  {
   "cell_type": "code",
   "execution_count": 33,
   "metadata": {},
   "outputs": [
    {
     "name": "stdout",
     "output_type": "stream",
     "text": [
      "<class 'pandas.core.frame.DataFrame'>\n",
      "RangeIndex: 8136 entries, 0 to 8135\n",
      "Data columns (total 6 columns):\n",
      " #   Column           Non-Null Count  Dtype \n",
      "---  ------           --------------  ----- \n",
      " 0   img-link href    8136 non-null   object\n",
      " 1   list-view-price  8136 non-null   object\n",
      " 2   celly            8136 non-null   object\n",
      " 3   celly 2          8136 non-null   object\n",
      " 4   celly 3          8136 non-null   object\n",
      " 5   celly 4          6858 non-null   object\n",
      "dtypes: object(6)\n",
      "memory usage: 381.5+ KB\n"
     ]
    }
   ],
   "source": [
    "df.info()"
   ]
  },
  {
   "cell_type": "code",
   "execution_count": null,
   "metadata": {},
   "outputs": [],
   "source": []
  }
 ],
 "metadata": {
  "kernelspec": {
   "display_name": "base",
   "language": "python",
   "name": "python3"
  },
  "language_info": {
   "codemirror_mode": {
    "name": "ipython",
    "version": 3
   },
   "file_extension": ".py",
   "mimetype": "text/x-python",
   "name": "python",
   "nbconvert_exporter": "python",
   "pygments_lexer": "ipython3",
   "version": "3.11.5"
  }
 },
 "nbformat": 4,
 "nbformat_minor": 2
}
